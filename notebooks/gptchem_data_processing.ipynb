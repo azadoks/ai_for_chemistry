{
 "cells": [
  {
   "cell_type": "code",
   "execution_count": null,
   "metadata": {},
   "outputs": [],
   "source": [
    "import os\n",
    "\n",
    "import pandas as pd\n",
    "from sklearn.model_selection import train_test_split\n",
    "\n",
    "from ai4chem.data import ChemFluorDataset, Deep4ChemDataset\n",
    "from ai4chem.utils import canonicalize_smiles, smiles_to_inchi, smiles_to_selfies"
   ]
  },
  {
   "cell_type": "code",
   "execution_count": null,
   "metadata": {},
   "outputs": [],
   "source": [
    "def process_loader(loader) -> pd.DataFrame:\n",
    "    df = loader.raw_data.copy()\n",
    "    # Rename columns of interes\n",
    "    df = df.rename({\n",
    "        loader._chromophore_smiles_column: \"CHROMOPHORE_SMILES\",\n",
    "        loader._solvent_smiles_column: \"SOLVENT_SMILES\",\n",
    "        loader._emission_max_column: \"EMISSION_MAX_NM\",\n",
    "        loader._absorption_max_column: \"ABSORPTION_MAX_NM\",\n",
    "    }, axis='columns')\n",
    "    # Drop all other columns\n",
    "    df = df[['CHROMOPHORE_SMILES', 'SOLVENT_SMILES', 'EMISSION_MAX_NM', 'ABSORPTION_MAX_NM']]\n",
    "    # Drop rows with NaN values\n",
    "    df = df.dropna(axis='index')\n",
    "    # Canonicalize SMILES\n",
    "    df['CHROMOPHORE_SMILES'] = df['CHROMOPHORE_SMILES'].apply(canonicalize_smiles)\n",
    "    df['SOLVENT_SMILES'] = df['SOLVENT_SMILES'].apply(canonicalize_smiles)\n",
    "    df = df.dropna(axis='index')\n",
    "    # Add SELFIES columns\n",
    "    df['CHROMOPHORE_SELFIES'] = df['CHROMOPHORE_SMILES'].apply(smiles_to_selfies)\n",
    "    df['SOLVENT_SELFIES'] = df['SOLVENT_SMILES'].apply(smiles_to_selfies)\n",
    "    df = df.dropna(axis='index')\n",
    "    # Add InChI columns\n",
    "    df['CHROMOPHORE_INCHI'] = df['CHROMOPHORE_SMILES'].apply(smiles_to_inchi)\n",
    "    df['SOLVENT_INCHI'] = df['SOLVENT_SMILES'].apply(smiles_to_inchi)\n",
    "    df = df.dropna(axis='index')\n",
    "    return df\n",
    "\n",
    "def get_chemfluor(path: os.PathLike=\"../data/chemfluor/data.csv\") -> pd.DataFrame:\n",
    "    chemfluor = ChemFluorDataset(\"../data/chemfluor/data.csv\", canonicalize_smiles=False)\n",
    "    df = process_loader(chemfluor)\n",
    "    df['SOURCE_DB'] = 'chemfluor'\n",
    "    return df\n",
    "\n",
    "def get_deep4chem(path: os.PathLike=\"../data/deep4chem/data.csv\") -> pd.DataFrame:\n",
    "    deep4chem = Deep4ChemDataset(path, canonicalize_smiles=False)\n",
    "    df = process_loader(deep4chem)\n",
    "    df['SOURCE_DB'] = 'deep4chem'\n",
    "    return df"
   ]
  },
  {
   "cell_type": "code",
   "execution_count": null,
   "metadata": {},
   "outputs": [],
   "source": [
    "df = pd.concat([get_chemfluor(), get_deep4chem()], axis=0)\n",
    "df.head()"
   ]
  },
  {
   "cell_type": "code",
   "execution_count": null,
   "metadata": {},
   "outputs": [],
   "source": [
    "train_df, validate_df = train_test_split(df, train_size=5_000, random_state=42)\n",
    "# Here, train_size is the size of the test set (used at the very end); the rest are used to validate during training\n",
    "test_df, validate_df = train_test_split(validate_df, train_size=100, random_state=42)"
   ]
  },
  {
   "cell_type": "code",
   "execution_count": null,
   "metadata": {},
   "outputs": [],
   "source": [
    "train_df.reset_index(drop=True).to_json('../data/combined/train.json')\n",
    "validate_df.reset_index(drop=True).to_json('../data/combined/validate.json')\n",
    "test_df.reset_index(drop=True).to_json('../data/combined/test.json')"
   ]
  }
 ],
 "metadata": {
  "language_info": {
   "name": "python"
  }
 },
 "nbformat": 4,
 "nbformat_minor": 2
}
