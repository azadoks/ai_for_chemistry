{
 "cells": [
  {
   "cell_type": "code",
   "execution_count": 1,
   "metadata": {},
   "outputs": [],
   "source": [
    "from typing import Union, List, Dict\n",
    "import pathlib as pl\n",
    "import json\n",
    "import os\n",
    "from datetime import datetime\n",
    "\n",
    "import openai\n",
    "import tiktoken\n",
    "import pandas as pd\n",
    "from rdkit import Chem\n",
    "from sklearn.model_selection import train_test_split\n",
    "\n",
    "with open('/Users/azadoks/.zshrc.d/10_openai_bot.sh', 'r') as f:\n",
    "    api_key = f.read().split('=')[1].strip()\n",
    "\n",
    "client = openai.OpenAI(api_key=api_key)"
   ]
  },
  {
   "cell_type": "code",
   "execution_count": 58,
   "metadata": {},
   "outputs": [],
   "source": [
    "def load_jsonl(filename: os.PathLike) -> List[dict]:\n",
    "    data = []\n",
    "    with open(filename, 'r') as f:\n",
    "        for line in f.readlines():\n",
    "            data.append(json.loads(line.strip()))\n",
    "    return data\n",
    "\n",
    "def predict(job_id: str, prompts) -> List:\n",
    "    response = client.fine_tuning.jobs.retrieve(job_id)\n",
    "    fine_tuned_model_id = response.fine_tuned_model\n",
    "\n",
    "    responses = []\n",
    "    for prompt in prompts:\n",
    "        if isinstance(prompt, dict):\n",
    "            prompt = prompt['prompt']\n",
    "        response = client.completions.create(\n",
    "            model=fine_tuned_model_id,\n",
    "            prompt=prompt,\n",
    "            stop='nm',\n",
    "            temperature=0\n",
    "        )\n",
    "        responses.append(response.to_dict())\n",
    "\n",
    "    return responses"
   ]
  },
  {
   "cell_type": "code",
   "execution_count": 59,
   "metadata": {},
   "outputs": [],
   "source": [
    "experiment_names = ['sel-abs-b231212', 'sel-emi-b231204', 'smi-abs-b231214', 'smi-emi-b231214']\n",
    "\n",
    "experiment_data = {}\n",
    "for experiment_name in experiment_names:\n",
    "    experiment_dir = pl.Path(f'../data/{experiment_name}/')\n",
    "    with open(experiment_dir / 'job_id.txt', 'r') as f:\n",
    "        job_id = f.read().strip()\n",
    "    train_data = load_jsonl(experiment_dir / 'train.jsonl')\n",
    "    validate_data = load_jsonl(experiment_dir / 'validate.jsonl')\n",
    "    test_data = load_jsonl(experiment_dir / 'test.jsonl')\n",
    "    experiment_data[experiment_name] = {\n",
    "        'job_id': job_id,\n",
    "        'train_data': train_data,\n",
    "        'validate_data': validate_data,\n",
    "        'test_data': test_data\n",
    "    }"
   ]
  },
  {
   "cell_type": "code",
   "execution_count": 60,
   "metadata": {},
   "outputs": [],
   "source": [
    "def get_molecule(prompt: str) -> str:\n",
    "    predicate = prompt.split('molecule')[1]\n",
    "    molecule = predicate.split()[0]\n",
    "    return molecule\n",
    "\n",
    "def get_solvent(prompt: str) -> str:\n",
    "    predicate = prompt.split('dissolved in')[1]\n",
    "    solvent = predicate.split()[0]\n",
    "    return solvent"
   ]
  },
  {
   "cell_type": "code",
   "execution_count": 63,
   "metadata": {},
   "outputs": [
    {
     "name": "stdout",
     "output_type": "stream",
     "text": [
      "sel-abs-b231212\n",
      "sel-emi-b231204\n",
      "smi-abs-b231214\n",
      "smi-emi-b231214\n"
     ]
    }
   ],
   "source": [
    "N = 500\n",
    "results = {}\n",
    "for experiment_name, experiment in experiment_data.items():\n",
    "    print(experiment_name)\n",
    "    results[experiment_name] = {}\n",
    "    data = experiment['test_data'][:N]\n",
    "    prompts = [d['prompt'] for d in data]\n",
    "    completions = predict(experiment['job_id'], prompts)\n",
    "\n",
    "    results[experiment_name]['y'] = [int(d['completion'].strip().split()[0]) for d in data]\n",
    "    results[experiment_name]['completions'] = completions\n",
    "    results[experiment_name]['yhat'] = [int(c['choices'][0]['text'].strip()) for c in completions]\n",
    "    results[experiment_name]['molecules'] = [get_molecule(d['prompt']) for d in data]\n",
    "    results[experiment_name]['solvents'] = [get_solvent(d['prompt']) for d in data]\n",
    "\n",
    "    results_filename = pl.Path(f'../data/{experiment_name}/results.json')\n",
    "    if results_filename.exists():\n",
    "        old_results = json.load(open(results_filename, 'r'))\n",
    "        for key in results[experiment_name].keys():\n",
    "            results[experiment_name][key] = old_results[key] + results[experiment_name][key]\n",
    "\n",
    "    results_filename.rename(results_filename.with_suffix(f'.{datetime.now().isoformat()}.json'))\n",
    "\n",
    "    with open(f'../data/{experiment_name}/results.json', 'w') as f:\n",
    "        json.dump(results[experiment_name], f)"
   ]
  },
  {
   "cell_type": "code",
   "execution_count": null,
   "metadata": {},
   "outputs": [],
   "source": [
    "y = []\n",
    "yhat = []\n",
    "for (i, row) in validate_df.iloc[:500].iterrows():\n",
    "    messages, expected = get_validate_converation(row, property_name, representation)\n",
    "    response = client.chat.completions.create(\n",
    "        model=fine_tuned_model_id,\n",
    "        messages=messages['messages'],\n",
    "        temperature=0,\n",
    "        max_tokens=12\n",
    "    )\n",
    "    content = response.choices[0].message.content\n",
    "    print(expected, content)\n",
    "    y.append(int(expected.strip().split()[0]))\n",
    "    yhat.append(int(content.strip().split()[0]))\n",
    "\n",
    "with open('smi-emis-gpt-3.5-turbo-0125-5k.json', 'w') as f:\n",
    "    json.dump({'y': y, 'yhat': yhat}, f)"
   ]
  },
  {
   "cell_type": "code",
   "execution_count": null,
   "metadata": {},
   "outputs": [],
   "source": [
    "import matplotlib.pyplot as plt\n",
    "fig, ax = plt.subplots(dpi=300, figsize=(6,5))\n",
    "\n",
    "colors = [\n",
    "    cs_srgb.spec_to_rgb(wavelength_to_spectrum(l))\n",
    "    for l in yhat\n",
    "]\n",
    "ax.plot([-2000, 2000], [-2000, 2000], linestyle='--', color='tab:gray', zorder=0)\n",
    "ax.scatter(y, yhat, c='tab:blue', marker='.')\n",
    "ax.set_xlabel('True')\n",
    "ax.set_ylabel('Predicted')\n",
    "ax.set_title('$\\lambda_{\\mathrm{max}}$ (nm)')\n",
    "ax.set_aspect('equal')\n",
    "ax.set_xlim(-50, 1050)\n",
    "ax.set_ylim(-50, 1050)\n",
    "\n",
    "fig.savefig('smi-emis-gpt-3.5-turbo-0125-5k.png')"
   ]
  }
 ],
 "metadata": {
  "kernelspec": {
   "display_name": "ai4chem",
   "language": "python",
   "name": "python3"
  },
  "language_info": {
   "codemirror_mode": {
    "name": "ipython",
    "version": 3
   },
   "file_extension": ".py",
   "mimetype": "text/x-python",
   "name": "python",
   "nbconvert_exporter": "python",
   "pygments_lexer": "ipython3",
   "version": "3.11.8"
  }
 },
 "nbformat": 4,
 "nbformat_minor": 2
}
